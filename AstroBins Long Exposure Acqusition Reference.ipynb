{
 "cells": [
  {
   "cell_type": "markdown",
   "metadata": {},
   "source": [
    "\n",
    "# AstroBin's long exposure acquisition reference\n",
    "\n",
    "## AstroBin allows the entry of the aqusition details associated with an uploaded image as a CSV file. The purpose of the code developed is to collect data from all relevant image files and use this to create a aqusition.csv file that can be used by AstroBin to populate the aqusition details for the image being uploaded.\n",
    "\n",
    "\n",
    "## AstroBin Long exposure acquisition fields\n",
    "\n",
    "| **Field** | Description | Validation |\n",
    "| --------- | ----------- | ---------- |\n",
    "| **date** | The date when the acquisition took place | YYYY-MM-DD format |\n",
    "| **filter** | Filter used | Numeric ID of a valid filter (this can be found by looking at the URL of the page of a filter in the equipment database) |\n",
    "| **number*** | Number of frames | Whole number |\n",
    "| **duration*** | Duration of each frame in seconds | Number, Max decimals: 4, Min value: 0.0001, Max value: 999999.9999 |\n",
    "| **iso** | ISO setting on the camera | Whole number |\n",
    "| **binning** | Binning of pixels | One of [1, 2, 3, 4] |\n",
    "| **gain** | Gain setting on the camera | Number, Max decimals: 2 |\n",
    "| **sensorcooling** | The temperature of the chip in Celsius degrees, e.g. -20 | Whole number, Min value: -274, Max value: 100 |\n",
    "| **fnumber** | If you used a camera lens, please specify the f-number (also known as f-ratio or f-stop) that you used for this acquisition session | Number, Max decimals: 2, Min value: 0 |\n",
    "| **darks** | The number of dark frames | Whole number, Min value: 0 |\n",
    "| **flats** | The number of flat frames | Whole number, Min value: 0 |\n",
    "| **flatdarks** | The number of flat dark frames | Whole number, Min value: 0 |\n",
    "| **bias** | The number of bias/offset frames | Whole number, Min value: 0 |\n",
    "| **bortle** | Bortle dark-sky scale | Whole number, Min value: 1, Max value: 9 |\n",
    "| **meansqm** | Mean SQM mag/arcsec^2 as measured by your Sky Quality Meter | Number, Max decimals: 2, Min value: 0 |\n",
    "| **meanfwhm** | Mean Full Width at Half Maximum in arc seconds, a measure of seeing | Number, Max decimals: 2, Min value: 0 |\n",
    "| **temperature** | Ambient temperature in Celsius degrees | Number, Max decimals: 2, Min value: -88, Max value: 58 |\n",
    "\n",
    "\n",
    "# Example of aquisition.csv file for part of an observing session\n",
    "\n",
    "| **date** | **filter** | **number** | **duration** | **binning** | **gain** | **sensorCooling** | **darks** | **flats** | **flatDarks** | **bias** | **meanSqm** | **meanFWHm** | **temperature** |\n",
    "| -------- | ---------- | ---------- | ------------ | ----------- | -------- | ----------------- | --------- | --------- | ------------- | -------- | ----------- | ------------- | -------------- |\n",
    "| 2023-08-15 | 4663 | 9 | 600.0 | 1 | 100 | -10 | 50 | 150 | 0 | 100 | 20.4 | 3.6 | 10.7 |\n",
    "| 2023-08-17 | 4663 | 19 | 600.0 | 1 | 100 | -10 | 50 | 150 | 0 | 100 | 20.4 | 3.6 | 13.3 |\n",
    "| 2023-08-28 | 4663 | 2 | 600.0 | 1 | 100 | -10 | 50 | 150 | 0 | 100 | 20.4 | 3.6 | 11.8 |\n",
    "| 2023-08-28 | 4844 | 7 | 600.0 | 1 | 100 | -10 | 50 | 150 | 0 | 100 | 20.4 | 3.6 | 10.4 |\n",
    "| 2023-09-02 | 4663 | 16 | 600.0 | 1 | 100 | -10 | 50 | 150 | 0 | 100 | 20.4 | 3.6 | 13.6 |\n",
    "| 2023-09-03 | 4663 | 14 | 600.0 | 1 | 100 | -10 | 50 | 150 | 0 | 100 | 20.4 | 3.6 | 11.3 |\n",
    "| 2023-09-03 | 4844 | 16 | 600.0 | 1 | 100 | -10 | 50 | 150 | 0 | 100 | 20.4 | 3.6 | 15.9 |\n",
    "| 2023-09-04 | 4844 | 27 | 600.0 | 1 | 100 | -10 | 50 | 150 | 0 | 100 | 20.4 | 3.6 | 13.7 |\n",
    "| 2023-09-15 | 4752 | 33 | 600.0 | 1 | 100 | -10 | 50 | 150 | 0 | 100 | 20.4 | 3.6 | 12.7 |\n",
    "| 2023-09-16 | 4752 | 25 | 600.0 | 1 | 100 | -10 | 50 | 150 | 0 | 100 | 20.4 | 3.6 | 11.8 |\n",
    "| 2023-09-18 | 4844 | 4 | 600.0 | 1 | 100 | -10 | 50 | 150 | 0 | 100 | 20.4 | 3.6 | 11.1 |\n",
    "\n",
    "### These fields can be obtained or derived from the FITS header files of the captured images. The filter value, however needs some translation from the fiter name e.g. Ha or OIII, as reported in the FITS header to the numeric ID of the filter used by AstroBin. To enable the translation a filter.csv file is created that defines the mapping between filter name and AstroBin filter code. An example showing the filter.csv file that decribes my filter set is given below:\n",
    "\n",
    "| **Filter** | **Code** |\n",
    "| ---------- | -------- |\n",
    "| Ha | 4663 |\n",
    "| SII | 4844 |\n",
    "| OIII | 4752 |\n",
    "| Red | 4649 |\n",
    "| Green | 4643 |\n",
    "| Blue | 4637 |\n",
    "| Lum | 2906 |\n",
    "| CLS | 4061 |\n",
    "\n",
    "\n",
    "### As stated in the validation column for the filter field the numeric ID of a valid filter is to be found by looking at the URL of the page in the AstroBin equipment database belonging to the filter under consideration. For example my Ha filter is a 2 inch H-alph CCD 6nm filter from Astronomik. Using the AstroBin equipment explorer to navigate to this filter's page the url for this filter is found to be:\n",
    "\n",
    "https://app.astrobin.com/equipment/explorer/filter/4663/astronomik-h-alpha-ccd-6nm-2\n",
    "\n",
    "### From the URL the code for this particular filter is 4663\n",
    "\n",
    "### The filters.csv can be created with a text editor and must reside in the directory the python script is run from as the script will look for the file to use the mappings that ensures the correct code is used for your filters."
   ]
  },
  {
   "cell_type": "markdown",
   "metadata": {},
   "source": []
  },
  {
   "cell_type": "markdown",
   "metadata": {},
   "source": []
  }
 ],
 "metadata": {
  "kernelspec": {
   "display_name": "Python 3",
   "language": "python",
   "name": "python3"
  },
  "language_info": {
   "name": "python",
   "version": "3.10.12"
  }
 },
 "nbformat": 4,
 "nbformat_minor": 2
}

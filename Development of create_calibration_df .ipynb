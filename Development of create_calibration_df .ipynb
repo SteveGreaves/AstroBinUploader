{
 "cells": [
  {
   "cell_type": "markdown",
   "metadata": {},
   "source": [
    "# Notebook to assist in development of create_calibration_df\n",
    "\n",
    "## Function: `create_calibration_df`\n",
    "\n",
    "### Description\n",
    "The `create_calibration_df` function is designed to create a DataFrame that holds information on the calibration data frame types extracted from FITS header data. It filters and groups data based on specific image types (`IMAGETYP`) and gain values (`GAIN`).\n",
    "\n",
    "### Parameters\n",
    "- `df` (`pandas.DataFrame`): The input DataFrame containing FITS header data. It is expected to include columns for `IMAGETYP` and `GAIN`.\n",
    "\n",
    "### Returns\n",
    "- `pandas.DataFrame`: A DataFrame with the columns 'TYPE', 'GAIN', and 'NUMBER'. Here, 'TYPE' corresponds to the types of images (like DARK, BIAS, FLAT, FLATDARKS), 'GAIN' reflects the gain value, and 'NUMBER' indicates the count of each group combination.\n",
    "\n",
    "### Functionality\n",
    "1. **Filtering**: The function starts by selecting rows from the input DataFrame where `IMAGETYP` matches one of the relevant types for calibration (DARK, BIAS, FLAT, FLATDARKS).\n",
    "2. **Grouping and Counting**: It then groups the filtered data by `IMAGETYP` and `GAIN`, and counts the number of occurrences for each group.\n",
    "3. **Formatting Output**: Finally, the function renames the 'IMAGETYP' column to 'TYPE' in the output DataFrame for clarity.\n",
    "\n",
    "### Usage\n",
    "This function is used to create a data frame that summarises the numbers of teh differnt types of calibration frame fo later use in the project.\n"
   ]
  },
  {
   "cell_type": "markdown",
   "metadata": {},
   "source": [
    "### Import libraries and developed code functions"
   ]
  },
  {
   "cell_type": "code",
   "execution_count": 2,
   "metadata": {},
   "outputs": [],
   "source": [
    "from utils import *"
   ]
  },
  {
   "cell_type": "markdown",
   "metadata": {},
   "source": []
  },
  {
   "cell_type": "markdown",
   "metadata": {},
   "source": [
    "### Define create_calibration_df function"
   ]
  },
  {
   "cell_type": "code",
   "execution_count": 5,
   "metadata": {},
   "outputs": [],
   "source": [
    "def create_calibration_df(df):\n",
    "    \"\"\"\n",
    "    Creates a DataFrame for calibration data based on specific IMAGETYPs and GAIN.\n",
    "    \n",
    "    Parameters:\n",
    "    df (pandas.DataFrame): The DataFrame containing FITS header data.\n",
    "    \n",
    "    Returns:\n",
    "    pandas.DataFrame: A DataFrame with columns 'TYPE', 'GAIN', and 'NUMBER'.\n",
    "    \"\"\"\n",
    "    relevant_types = ['DARK', 'BIAS', 'FLAT','FLATDARKS']\n",
    "    filtered_df = df[df['IMAGETYP'].isin(relevant_types)]\n",
    "    group_counts = filtered_df.groupby(['IMAGETYP', 'GAIN']).size().reset_index(name='NUMBER')\n",
    "    return group_counts.rename(columns={'IMAGETYP': 'TYPE'})\n"
   ]
  },
  {
   "cell_type": "markdown",
   "metadata": {},
   "source": [
    "## Testing\n",
    "\n",
    "### Supply the path to directory containing mutliple FITS files and execute function. The test directory has no hierachy but contains Lights, Dark, Flats and Bias frames. Run the header extraction function"
   ]
  },
  {
   "cell_type": "code",
   "execution_count": 14,
   "metadata": {},
   "outputs": [],
   "source": [
    "path = '/home/steve/Desktop/AstroData/NGC 7822'\n",
    "#Call extraction function to create header dataframe.\n",
    "#extract_fits_headers() was imported from utils\n",
    "headers_df = extract_fits_headers(path)"
   ]
  },
  {
   "cell_type": "markdown",
   "metadata": {},
   "source": [
    "### Create the dataframe that holds calibration framw information "
   ]
  },
  {
   "cell_type": "code",
   "execution_count": 7,
   "metadata": {},
   "outputs": [],
   "source": [
    "calibration_df = create_calibration_df(headers_df)"
   ]
  },
  {
   "cell_type": "markdown",
   "metadata": {},
   "source": [
    "### Display data frame containing header information calibration_df"
   ]
  },
  {
   "cell_type": "code",
   "execution_count": 11,
   "metadata": {},
   "outputs": [
    {
     "data": {
      "text/html": [
       "<div>\n",
       "<style scoped>\n",
       "    .dataframe tbody tr th:only-of-type {\n",
       "        vertical-align: middle;\n",
       "    }\n",
       "\n",
       "    .dataframe tbody tr th {\n",
       "        vertical-align: top;\n",
       "    }\n",
       "\n",
       "    .dataframe thead th {\n",
       "        text-align: right;\n",
       "    }\n",
       "</style>\n",
       "<table border=\"1\" class=\"dataframe\">\n",
       "  <thead>\n",
       "    <tr style=\"text-align: right;\">\n",
       "      <th></th>\n",
       "      <th>TYPE</th>\n",
       "      <th>GAIN</th>\n",
       "      <th>NUMBER</th>\n",
       "    </tr>\n",
       "  </thead>\n",
       "  <tbody>\n",
       "    <tr>\n",
       "      <th>0</th>\n",
       "      <td>BIAS</td>\n",
       "      <td>0</td>\n",
       "      <td>100</td>\n",
       "    </tr>\n",
       "    <tr>\n",
       "      <th>1</th>\n",
       "      <td>BIAS</td>\n",
       "      <td>100</td>\n",
       "      <td>100</td>\n",
       "    </tr>\n",
       "    <tr>\n",
       "      <th>2</th>\n",
       "      <td>DARK</td>\n",
       "      <td>0</td>\n",
       "      <td>50</td>\n",
       "    </tr>\n",
       "    <tr>\n",
       "      <th>3</th>\n",
       "      <td>DARK</td>\n",
       "      <td>100</td>\n",
       "      <td>50</td>\n",
       "    </tr>\n",
       "    <tr>\n",
       "      <th>4</th>\n",
       "      <td>FLAT</td>\n",
       "      <td>0</td>\n",
       "      <td>200</td>\n",
       "    </tr>\n",
       "    <tr>\n",
       "      <th>5</th>\n",
       "      <td>FLAT</td>\n",
       "      <td>100</td>\n",
       "      <td>150</td>\n",
       "    </tr>\n",
       "  </tbody>\n",
       "</table>\n",
       "</div>"
      ],
      "text/plain": [
       "   TYPE  GAIN  NUMBER\n",
       "0  BIAS     0     100\n",
       "1  BIAS   100     100\n",
       "2  DARK     0      50\n",
       "3  DARK   100      50\n",
       "4  FLAT     0     200\n",
       "5  FLAT   100     150"
      ]
     },
     "execution_count": 11,
     "metadata": {},
     "output_type": "execute_result"
    }
   ],
   "source": [
    "calibration_df"
   ]
  },
  {
   "cell_type": "markdown",
   "metadata": {},
   "source": [
    "### The results show that the function has sucessfully collected the calibration frame information from the directory having a flat hierachy.\n",
    "\n",
    "### The result should be the same for a directory containing subdirectories as the collection function works and this function only operates on the datafarme that contains the collected header information. But we will test its use on a hirachical directory"
   ]
  },
  {
   "cell_type": "code",
   "execution_count": 15,
   "metadata": {},
   "outputs": [
    {
     "data": {
      "text/html": [
       "<div>\n",
       "<style scoped>\n",
       "    .dataframe tbody tr th:only-of-type {\n",
       "        vertical-align: middle;\n",
       "    }\n",
       "\n",
       "    .dataframe tbody tr th {\n",
       "        vertical-align: top;\n",
       "    }\n",
       "\n",
       "    .dataframe thead th {\n",
       "        text-align: right;\n",
       "    }\n",
       "</style>\n",
       "<table border=\"1\" class=\"dataframe\">\n",
       "  <thead>\n",
       "    <tr style=\"text-align: right;\">\n",
       "      <th></th>\n",
       "      <th>TYPE</th>\n",
       "      <th>GAIN</th>\n",
       "      <th>NUMBER</th>\n",
       "    </tr>\n",
       "  </thead>\n",
       "  <tbody>\n",
       "    <tr>\n",
       "      <th>0</th>\n",
       "      <td>BIAS</td>\n",
       "      <td>0</td>\n",
       "      <td>100</td>\n",
       "    </tr>\n",
       "    <tr>\n",
       "      <th>1</th>\n",
       "      <td>BIAS</td>\n",
       "      <td>100</td>\n",
       "      <td>100</td>\n",
       "    </tr>\n",
       "    <tr>\n",
       "      <th>2</th>\n",
       "      <td>DARK</td>\n",
       "      <td>0</td>\n",
       "      <td>50</td>\n",
       "    </tr>\n",
       "    <tr>\n",
       "      <th>3</th>\n",
       "      <td>DARK</td>\n",
       "      <td>100</td>\n",
       "      <td>50</td>\n",
       "    </tr>\n",
       "    <tr>\n",
       "      <th>4</th>\n",
       "      <td>FLAT</td>\n",
       "      <td>0</td>\n",
       "      <td>200</td>\n",
       "    </tr>\n",
       "    <tr>\n",
       "      <th>5</th>\n",
       "      <td>FLAT</td>\n",
       "      <td>100</td>\n",
       "      <td>150</td>\n",
       "    </tr>\n",
       "  </tbody>\n",
       "</table>\n",
       "</div>"
      ],
      "text/plain": [
       "   TYPE  GAIN  NUMBER\n",
       "0  BIAS     0     100\n",
       "1  BIAS   100     100\n",
       "2  DARK     0      50\n",
       "3  DARK   100      50\n",
       "4  FLAT     0     200\n",
       "5  FLAT   100     150"
      ]
     },
     "execution_count": 15,
     "metadata": {},
     "output_type": "execute_result"
    }
   ],
   "source": [
    "path = '/mnt/HDD_8TB/Preselected/Flaming Star Nebula Mosaic started 30th January 2023'\n",
    "#Call function\n",
    "headers_df1 = extract_fits_headers(path)\n",
    "\n",
    "calibration_df = create_calibration_df(headers_df1)\n",
    "\n",
    "calibration_df"
   ]
  },
  {
   "cell_type": "markdown",
   "metadata": {},
   "source": [
    "### All looks fine. The function will work with both hierachical and flat folders"
   ]
  },
  {
   "cell_type": "markdown",
   "metadata": {},
   "source": []
  }
 ],
 "metadata": {
  "kernelspec": {
   "display_name": "Python 3",
   "language": "python",
   "name": "python3"
  },
  "language_info": {
   "codemirror_mode": {
    "name": "ipython",
    "version": 3
   },
   "file_extension": ".py",
   "mimetype": "text/x-python",
   "name": "python",
   "nbconvert_exporter": "python",
   "pygments_lexer": "ipython3",
   "version": "3.10.12"
  }
 },
 "nbformat": 4,
 "nbformat_minor": 2
}
